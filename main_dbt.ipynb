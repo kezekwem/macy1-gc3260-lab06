{
 "cells": [
  {
   "cell_type": "markdown",
   "metadata": {},
   "source": [
    "# DashDash dbt Runner\n",
    "\n",
    "Use this notebook if you'd like to orchestrate the lab via dbt instead of the plain Python pipeline.\n",
    "Make sure the dbt profile points at a Postgres-compatible target and that dependencies are installed.\n"
   ]
  },
  {
   "cell_type": "code",
   "execution_count": 1,
   "id": "650905ad",
   "metadata": {
    "tags": [
     "parameters"
    ]
   },
   "outputs": [
    {
     "name": "stdout",
     "output_type": "stream",
     "text": [
      "Profiles dir: /Users/kenechukwuezekwem/Documents/MACY1_GC_3260_LAB06_V2.0_10152025/dbt_dashdash\n",
      "Target: dev\n"
     ]
    }
   ],
   "source": [
    "import os\n",
    "from pathlib import Path\n",
    "\n",
    "project_root = Path.cwd()\n",
    "profiles_dir = os.environ.get(\"DBT_PROFILES_DIR\", str(project_root / \"dbt_dashdash\"))\n",
    "target = os.environ.get(\"DBT_TARGET\", \"dev\")\n",
    "print(f\"Profiles dir: {profiles_dir}\")\n",
    "print(f\"Target: {target}\")\n"
   ]
  },
  {
   "cell_type": "code",
   "execution_count": 1,
   "id": "6910019f",
   "metadata": {},
   "outputs": [
    {
     "name": "stdout",
     "output_type": "stream",
     "text": [
      "dbt-core is already installed.\n"
     ]
    }
   ],
   "source": [
    "try:\n",
    "    import dbt.version\n",
    "except ImportError:\n",
    "    print(\"dbt-core not found, installing...\")\n",
    "    !pip install dbt-core\n",
    "    print(\"dbt-core installed.\")\n",
    "else:\n",
    "    print(\"dbt-core is already installed.\")\n"
   ]
  },
  {
   "cell_type": "code",
   "execution_count": 2,
   "id": "b1b3efa1",
   "metadata": {},
   "outputs": [
    {
     "name": "stdout",
     "output_type": "stream",
     "text": [
      "Using dbt project at /Users/kenechukwuezekwem/Documents/MACY1_GC_3260_LAB06_V2.0_10152025/dbt_dashdash\n",
      "Profiles dir: /Users/kenechukwuezekwem/Documents/MACY1_GC_3260_LAB06_V2.0_10152025/dbt_dashdash/_profiles\n",
      "Target: dev\n",
      "\u001b[0m01:07:25  Running with dbt=1.10.11\n",
      "\u001b[0m01:07:25  Installing dbt-labs/dbt_utils\n",
      "\u001b[0m01:07:25  Installed from version 1.1.1\n",
      "\u001b[0m01:07:25  Updated version available: 1.3.1\n",
      "\u001b[0m01:07:25  \n",
      "\u001b[0m01:07:25  Updates available for packages: ['dbt-labs/dbt_utils']                 \n",
      "Update your versions in packages.yml, then run dbt deps\n",
      "\u001b[0m01:07:26  Running with dbt=1.10.11\n",
      "\u001b[0m01:07:26  Registered adapter: postgres=1.9.1\n",
      "\u001b[0m01:07:27  Found 10 models, 13 data tests, 4 sources, 556 macros\n",
      "\u001b[0m01:07:27  \n",
      "\u001b[0m01:07:27  Concurrency: 4 threads (target='dev')\n",
      "\u001b[0m01:07:27  \n",
      "\u001b[0m01:07:28  1 of 10 START sql view model public_public.stg_couriers ........................ [RUN]\n",
      "\u001b[0m01:07:28  2 of 10 START sql view model public_public.stg_customers ....................... [RUN]\n",
      "\u001b[0m01:07:28  3 of 10 START sql view model public_public.stg_orders .......................... [RUN]\n",
      "\u001b[0m01:07:28  4 of 10 START sql view model public_public.stg_restaurants ..................... [RUN]\n",
      "\u001b[0m01:07:28  2 of 10 OK created sql view model public_public.stg_customers .................. [\u001b[32mCREATE VIEW\u001b[0m in 0.43s]\n",
      "\u001b[0m01:07:28  4 of 10 OK created sql view model public_public.stg_restaurants ................ [\u001b[32mCREATE VIEW\u001b[0m in 0.43s]\n",
      "\u001b[0m01:07:28  1 of 10 OK created sql view model public_public.stg_couriers ................... [\u001b[32mCREATE VIEW\u001b[0m in 0.43s]\n",
      "\u001b[0m01:07:28  5 of 10 START sql view model public_public.dim_customer ........................ [RUN]\n",
      "\u001b[0m01:07:28  6 of 10 START sql view model public_public.dim_restaurant ...................... [RUN]\n",
      "\u001b[0m01:07:28  7 of 10 START sql view model public_public.dim_courier ......................... [RUN]\n",
      "\u001b[0m01:07:28  3 of 10 OK created sql view model public_public.stg_orders ..................... [\u001b[32mCREATE VIEW\u001b[0m in 0.45s]\n",
      "\u001b[0m01:07:28  8 of 10 START sql view model public_public.monitoring_dq_exceptions ............ [RUN]\n",
      "\u001b[0m01:07:28  7 of 10 OK created sql view model public_public.dim_courier .................... [\u001b[32mCREATE VIEW\u001b[0m in 0.26s]\n",
      "\u001b[0m01:07:28  8 of 10 OK created sql view model public_public.monitoring_dq_exceptions ....... [\u001b[32mCREATE VIEW\u001b[0m in 0.24s]\n",
      "\u001b[0m01:07:28  5 of 10 OK created sql view model public_public.dim_customer ................... [\u001b[32mCREATE VIEW\u001b[0m in 0.26s]\n",
      "\u001b[0m01:07:28  9 of 10 START sql view model public_public.fct_deliveries ...................... [RUN]\n",
      "\u001b[0m01:07:28  6 of 10 OK created sql view model public_public.dim_restaurant ................. [\u001b[32mCREATE VIEW\u001b[0m in 0.28s]\n",
      "\u001b[0m01:07:29  9 of 10 OK created sql view model public_public.fct_deliveries ................. [\u001b[32mCREATE VIEW\u001b[0m in 0.35s]\n",
      "\u001b[0m01:07:29  10 of 10 START sql view model public_public.kpi_delivery_overview .............. [RUN]\n",
      "\u001b[0m01:07:29  10 of 10 OK created sql view model public_public.kpi_delivery_overview ......... [\u001b[32mCREATE VIEW\u001b[0m in 0.27s]\n",
      "\u001b[0m01:07:29  \n",
      "\u001b[0m01:07:29  Finished running 10 view models in 0 hours 0 minutes and 2.53 seconds (2.53s).\n",
      "\u001b[0m01:07:29  \n",
      "\u001b[0m01:07:29  \u001b[32mCompleted successfully\u001b[0m\n",
      "\u001b[0m01:07:29  \n",
      "\u001b[0m01:07:29  Done. PASS=10 WARN=0 ERROR=0 SKIP=0 NO-OP=0 TOTAL=10\n",
      "\n",
      "dbt run results:\n",
      "  ✅ stg_customers — success (CREATE VIEW)\n",
      "  ✅ stg_restaurants — success (CREATE VIEW)\n",
      "  ✅ stg_couriers — success (CREATE VIEW)\n",
      "  ✅ stg_orders — success (CREATE VIEW)\n",
      "  ✅ dim_courier — success (CREATE VIEW)\n",
      "  ✅ monitoring_dq_exceptions — success (CREATE VIEW)\n",
      "  ✅ dim_customer — success (CREATE VIEW)\n",
      "  ✅ dim_restaurant — success (CREATE VIEW)\n",
      "  ✅ fct_deliveries — success (CREATE VIEW)\n",
      "  ✅ kpi_delivery_overview — success (CREATE VIEW)\n",
      "\u001b[0m01:07:30  Running with dbt=1.10.11\n",
      "\u001b[0m01:07:30  Registered adapter: postgres=1.9.1\n",
      "\u001b[0m01:07:30  Found 10 models, 13 data tests, 4 sources, 556 macros\n",
      "\u001b[0m01:07:30  \n",
      "\u001b[0m01:07:30  Concurrency: 4 threads (target='dev')\n",
      "\u001b[0m01:07:30  \n",
      "\u001b[0m01:07:31  1 of 13 START test accepted_values_dim_courier_vehicle_type__bike__scooter__car  [RUN]\n",
      "\u001b[0m01:07:31  2 of 13 START test accepted_values_stg_couriers_vehicle_type__bike__scooter__car  [RUN]\n",
      "\u001b[0m01:07:31  3 of 13 START test accepted_values_stg_orders_status__delivered__canceled__returned__unknown  [RUN]\n",
      "\u001b[0m01:07:31  4 of 13 START test dbt_utils_expression_is_true_stg_orders_delivery_minutes__delivery_minutes_IS_NULL_OR_delivery_minutes_0  [RUN]\n",
      "\u001b[0m01:07:31  4 of 13 ERROR dbt_utils_expression_is_true_stg_orders_delivery_minutes__delivery_minutes_IS_NULL_OR_delivery_minutes_0  [\u001b[31mERROR\u001b[0m in 0.29s]\n",
      "\u001b[0m01:07:31  5 of 13 START test dbt_utils_expression_is_true_stg_orders_dropoff_ts___status_delivered_AND_dropoff_ts_IS_NOT_NULL_OR_status_IN_canceled_returned_unknown_AND_dropoff_ts_IS_NULL_  [RUN]\n",
      "\u001b[0m01:07:31  2 of 13 FAIL 1 accepted_values_stg_couriers_vehicle_type__bike__scooter__car ... [\u001b[31mFAIL 1\u001b[0m in 0.30s]\n",
      "\u001b[0m01:07:31  3 of 13 PASS accepted_values_stg_orders_status__delivered__canceled__returned__unknown  [\u001b[32mPASS\u001b[0m in 0.30s]\n",
      "\u001b[0m01:07:31  1 of 13 FAIL 1 accepted_values_dim_courier_vehicle_type__bike__scooter__car .... [\u001b[31mFAIL 1\u001b[0m in 0.31s]\n",
      "\u001b[0m01:07:31  6 of 13 START test not_null_fct_deliveries_order_id ............................ [RUN]\n",
      "\u001b[0m01:07:31  7 of 13 START test not_null_stg_orders_order_id ................................ [RUN]\n",
      "\u001b[0m01:07:31  8 of 13 START test relationships_fct_deliveries_courier_id__courier_id__ref_dim_courier_  [RUN]\n",
      "\u001b[0m01:07:31  5 of 13 ERROR dbt_utils_expression_is_true_stg_orders_dropoff_ts___status_delivered_AND_dropoff_ts_IS_NOT_NULL_OR_status_IN_canceled_returned_unknown_AND_dropoff_ts_IS_NULL_  [\u001b[31mERROR\u001b[0m in 0.19s]\n",
      "\u001b[0m01:07:31  9 of 13 START test relationships_fct_deliveries_restaurant_id__restaurant_id__ref_dim_restaurant_  [RUN]\n",
      "\u001b[0m01:07:32  7 of 13 PASS not_null_stg_orders_order_id ...................................... [\u001b[32mPASS\u001b[0m in 0.31s]\n",
      "\u001b[0m01:07:32  6 of 13 PASS not_null_fct_deliveries_order_id .................................. [\u001b[32mPASS\u001b[0m in 0.32s]\n",
      "\u001b[0m01:07:32  8 of 13 PASS relationships_fct_deliveries_courier_id__courier_id__ref_dim_courier_  [\u001b[32mPASS\u001b[0m in 0.32s]\n",
      "\u001b[0m01:07:32  10 of 13 START test relationships_stg_orders_courier_id__courier_id__ref_stg_couriers_  [RUN]\n",
      "\u001b[0m01:07:32  11 of 13 START test relationships_stg_orders_restaurant_id__restaurant_id__ref_stg_restaurants_  [RUN]\n",
      "\u001b[0m01:07:32  12 of 13 START test unique_fct_deliveries_order_id ............................. [RUN]\n",
      "\u001b[0m01:07:32  9 of 13 PASS relationships_fct_deliveries_restaurant_id__restaurant_id__ref_dim_restaurant_  [\u001b[32mPASS\u001b[0m in 0.29s]\n",
      "\u001b[0m01:07:32  13 of 13 START test unique_stg_orders_order_id ................................. [RUN]\n",
      "\u001b[0m01:07:32  10 of 13 PASS relationships_stg_orders_courier_id__courier_id__ref_stg_couriers_  [\u001b[32mPASS\u001b[0m in 0.22s]\n",
      "\u001b[0m01:07:32  12 of 13 PASS unique_fct_deliveries_order_id ................................... [\u001b[32mPASS\u001b[0m in 0.21s]\n",
      "\u001b[0m01:07:32  11 of 13 FAIL 1 relationships_stg_orders_restaurant_id__restaurant_id__ref_stg_restaurants_  [\u001b[31mFAIL 1\u001b[0m in 0.23s]\n",
      "\u001b[0m01:07:32  13 of 13 PASS unique_stg_orders_order_id ....................................... [\u001b[32mPASS\u001b[0m in 0.20s]\n",
      "\u001b[0m01:07:32  \n",
      "\u001b[0m01:07:32  Finished running 13 data tests in 0 hours 0 minutes and 1.86 seconds (1.86s).\n",
      "\u001b[0m01:07:32  \n",
      "\u001b[0m01:07:32  \u001b[31mCompleted with 5 errors, 0 partial successes, and 0 warnings:\u001b[0m\n",
      "\u001b[0m01:07:32  \n",
      "\u001b[0m01:07:32  \u001b[31mFailure in test dbt_utils_expression_is_true_stg_orders_delivery_minutes__delivery_minutes_IS_NULL_OR_delivery_minutes_0 (models/staging/stg_orders.yml)\u001b[0m\n",
      "\u001b[0m01:07:32    Database Error in test dbt_utils_expression_is_true_stg_orders_delivery_minutes__delivery_minutes_IS_NULL_OR_delivery_minutes_0 (models/staging/stg_orders.yml)\n",
      "  syntax error at or near \"delivery_minutes\"\n",
      "  LINE 18: where not(delivery_minutes delivery_minutes IS NULL OR deliv...\n",
      "                                      ^\n",
      "  compiled code at target/run/dashdash_lab/models/staging/stg_orders.yml/dbt_utils_expression_is_true_s_97868106d11f5495721f85614fe56303.sql\n",
      "\u001b[0m01:07:32  \n",
      "\u001b[0m01:07:32    compiled code at target/compiled/dashdash_lab/models/staging/stg_orders.yml/dbt_utils_expression_is_true_s_97868106d11f5495721f85614fe56303.sql\n",
      "\u001b[0m01:07:32  \n",
      "\u001b[0m01:07:32  \u001b[31mFailure in test accepted_values_stg_couriers_vehicle_type__bike__scooter__car (models/staging/stg_couriers.yml)\u001b[0m\n",
      "\u001b[0m01:07:32    Got 1 result, configured to fail if != 0\n",
      "\u001b[0m01:07:32  \n",
      "\u001b[0m01:07:32    compiled code at target/compiled/dashdash_lab/models/staging/stg_couriers.yml/accepted_values_stg_couriers_vehicle_type__bike__scooter__car.sql\n",
      "\u001b[0m01:07:32  \n",
      "\u001b[0m01:07:32  \u001b[31mFailure in test accepted_values_dim_courier_vehicle_type__bike__scooter__car (models/marts/schema.yml)\u001b[0m\n",
      "\u001b[0m01:07:32    Got 1 result, configured to fail if != 0\n",
      "\u001b[0m01:07:32  \n",
      "\u001b[0m01:07:32    compiled code at target/compiled/dashdash_lab/models/marts/schema.yml/accepted_values_dim_courier_vehicle_type__bike__scooter__car.sql\n",
      "\u001b[0m01:07:32  \n",
      "\u001b[0m01:07:32  \u001b[31mFailure in test dbt_utils_expression_is_true_stg_orders_dropoff_ts___status_delivered_AND_dropoff_ts_IS_NOT_NULL_OR_status_IN_canceled_returned_unknown_AND_dropoff_ts_IS_NULL_ (models/staging/stg_orders.yml)\u001b[0m\n",
      "\u001b[0m01:07:32    Database Error in test dbt_utils_expression_is_true_stg_orders_dropoff_ts___status_delivered_AND_dropoff_ts_IS_NOT_NULL_OR_status_IN_canceled_returned_unknown_AND_dropoff_ts_IS_NULL_ (models/staging/stg_orders.yml)\n",
      "  function dropoff_ts(boolean) does not exist\n",
      "  LINE 18: where not(dropoff_ts (status = 'delivered' AND dropoff_ts IS...\n",
      "                     ^\n",
      "  HINT:  No function matches the given name and argument types. You might need to add explicit type casts.\n",
      "  compiled code at target/run/dashdash_lab/models/staging/stg_orders.yml/dbt_utils_expression_is_true_s_6f1f3db7fd331fd5e80168eeafd17ba3.sql\n",
      "\u001b[0m01:07:32  \n",
      "\u001b[0m01:07:32    compiled code at target/compiled/dashdash_lab/models/staging/stg_orders.yml/dbt_utils_expression_is_true_s_6f1f3db7fd331fd5e80168eeafd17ba3.sql\n",
      "\u001b[0m01:07:32  \n",
      "\u001b[0m01:07:32  \u001b[31mFailure in test relationships_stg_orders_restaurant_id__restaurant_id__ref_stg_restaurants_ (models/staging/stg_orders.yml)\u001b[0m\n",
      "\u001b[0m01:07:32    Got 1 result, configured to fail if != 0\n",
      "\u001b[0m01:07:32  \n",
      "\u001b[0m01:07:32    compiled code at target/compiled/dashdash_lab/models/staging/stg_orders.yml/relationships_stg_orders_30762036887c15c825a33e927a3d9200.sql\n",
      "\u001b[0m01:07:32  \n",
      "\u001b[0m01:07:32  Done. PASS=8 WARN=0 ERROR=5 SKIP=0 NO-OP=0 TOTAL=13\n",
      "Command dbt test --target dev --profiles-dir /Users/kenechukwuezekwem/Documents/MACY1_GC_3260_LAB06_V2.0_10152025/dbt_dashdash/_profiles failed with exit code 1.\n"
     ]
    }
   ],
   "source": [
    "import os\n",
    "import shutil\n",
    "from pathlib import Path\n",
    "\n",
    "# Set schema to public\n",
    "os.environ[\"DBT_SCHEMA\"] = \"public\"\n",
    "\n",
    "# Remove existing profile to force regeneration\n",
    "profiles_dir = Path.cwd() / \"dbt_dashdash\" / \"_profiles\"\n",
    "if profiles_dir.exists():\n",
    "    shutil.rmtree(profiles_dir)\n",
    "\n",
    "!python main_dbt.py"
   ]
  },
  {
   "cell_type": "code",
   "execution_count": null,
   "id": "998e98d4",
   "metadata": {},
   "outputs": [],
   "source": []
  }
 ],
 "metadata": {
  "kernelspec": {
   "display_name": "Python 3",
   "language": "python",
   "name": "python3"
  },
  "language_info": {
   "codemirror_mode": {
    "name": "ipython",
    "version": 3
   },
   "file_extension": ".py",
   "mimetype": "text/x-python",
   "name": "python",
   "nbconvert_exporter": "python",
   "pygments_lexer": "ipython3",
   "version": "3.12.0"
  }
 },
 "nbformat": 4,
 "nbformat_minor": 5
}
